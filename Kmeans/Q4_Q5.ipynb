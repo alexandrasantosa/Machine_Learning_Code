{
  "nbformat": 4,
  "nbformat_minor": 0,
  "metadata": {
    "colab": {
      "provenance": []
    },
    "kernelspec": {
      "name": "python3",
      "display_name": "Python 3"
    },
    "language_info": {
      "name": "python"
    }
  },
  "cells": [
    {
      "cell_type": "markdown",
      "source": [
        "Question 4 and 5 Assignment 3 "
      ],
      "metadata": {
        "id": "YAymAxDtyZBB"
      }
    },
    {
      "cell_type": "markdown",
      "source": [
        "Alexandra Belinda Santosa - a1785180"
      ],
      "metadata": {
        "id": "4t4P1iyjyk-K"
      }
    },
    {
      "cell_type": "code",
      "source": [
        "from google.colab import drive\n",
        "drive.mount('/content/drive')"
      ],
      "metadata": {
        "colab": {
          "base_uri": "https://localhost:8080/"
        },
        "id": "3T1Jt2yhaPQC",
        "outputId": "e9674bf0-8765-47f1-b84c-65f1461f5d1e"
      },
      "execution_count": 124,
      "outputs": [
        {
          "output_type": "stream",
          "name": "stdout",
          "text": [
            "Drive already mounted at /content/drive; to attempt to forcibly remount, call drive.mount(\"/content/drive\", force_remount=True).\n"
          ]
        }
      ]
    },
    {
      "cell_type": "code",
      "source": [
        "import sys\n",
        "import matplotlib\n",
        "import pandas as pd\n",
        "import random\n",
        "import numpy as np\n",
        "import io\n",
        "import matplotlib.pyplot as plt\n",
        "from math import exp \n",
        "from sklearn.metrics import pairwise_distances_argmin\n",
        "from scipy.spatial.distance import cdist"
      ],
      "metadata": {
        "id": "RVDDt-DJ2Tvz"
      },
      "execution_count": 125,
      "outputs": []
    },
    {
      "cell_type": "code",
      "source": [
        "train = pd.read_csv('/content/drive/My Drive/Colab Notebooks/Dataset_2/mnist.csv',header=None)"
      ],
      "metadata": {
        "id": "6N_CoIKt2fTe"
      },
      "execution_count": 126,
      "outputs": []
    },
    {
      "cell_type": "code",
      "source": [
        "#For X_train\n",
        "X_train = train.iloc[:,1:].to_numpy()\n",
        "\n",
        "#4000test set\n",
        "X_train_optimal=train.iloc[:4000,1:].to_numpy()\n",
        "\n",
        "#2000 tests et\n",
        "Y_train_optimal=train.iloc[:2000,1:].to_numpy()\n",
        "print(Y_train_optimal.shape)\n",
        "X_train_optimal.shape\n",
        "\n",
        "#To test RBF\n",
        "X_train_rbf=train.iloc[:500,1:].to_numpy()\n",
        "print(X_train_rbf.shape)\n",
        "y_train = train.iloc[:,0].to_numpy()"
      ],
      "metadata": {
        "colab": {
          "base_uri": "https://localhost:8080/"
        },
        "id": "RQGs8v9D2hDs",
        "outputId": "c52b4eab-f2de-449e-abd5-c5c24eca8b9d"
      },
      "execution_count": 127,
      "outputs": [
        {
          "output_type": "stream",
          "name": "stdout",
          "text": [
            "(2000, 784)\n",
            "(500, 784)\n"
          ]
        }
      ]
    },
    {
      "cell_type": "code",
      "source": [
        "#For q4\n",
        "class KMeans2(object):\n",
        "\n",
        "    def __init__(self): \n",
        "        pass\n",
        " \n",
        "    def pairwise_dist_eucl(self,x,y): \n",
        "      #calculate the distance ( Euclidean dsitance)   \n",
        "        x_2 = np.sum(np.square(x),axis=1);\n",
        "        y_2 = np.sum(np.square(y),axis=1);\n",
        "        mul = np.dot(x, y.T);\n",
        "        dists = np.sqrt(abs(x_2[:, np.newaxis] + y_2-2*mul))\n",
        "        return dists\n",
        "\n",
        "   \n",
        "\n",
        "    def centers_assignment(self, X, k):  \n",
        "        r, c = X.shape\n",
        "        array_ret = np.empty([k, c])\n",
        "        for n in range(k):\n",
        "            random_index = np.random.randint(r)\n",
        "            array_ret[n] = X[random_index]\n",
        "        \n",
        "        return array_ret\n",
        "   \n",
        "\n",
        "    def label_assignment(self, centroids, points):  \n",
        "        #assign labels\n",
        "        r, c = points.shape\n",
        "        #set an empty array\n",
        "        labels1 = np.empty([r])\n",
        "        #assign label to the closest distance\n",
        "        dists =self.pairwise_dist_eucl(points, centroids)\n",
        "        labels1 = np.argmin(dists, axis=1)\n",
        "      \n",
        "        return labels1\n",
        "\n",
        "    def centers_new(self, centers_old, labels1, X):  \n",
        "        k, d = centers_old.shape\n",
        "        centers_new_arr = np.empty(centers_old.shape)\n",
        "        for i in range(k):\n",
        "            centers_new_arr[i] = np.array(X[labels1 == i].mean(0))\n",
        "        return centers_new_arr\n",
        "    \n",
        "    \n",
        "\n",
        "    def calculate_loss(self, centroids, labels1, X):  \n",
        "        dists = self.pairwise_dist_eucl(X, centroids)\n",
        "        loss = 0.0\n",
        "        n, d = X.shape\n",
        "        for i in range(n):\n",
        "            d1=dists[i]\n",
        "            l1=labels1[i]\n",
        "            #count  the loss (sum the distance and centers)\n",
        "            loss = loss + np.square(d1[l1])\n",
        "  \n",
        "        return loss\n",
        "  \n",
        "    \n",
        "    def __call__(self, X, k, max_iters=10):\n",
        "  \n",
        "    \n",
        "        centroids = self.centers_assignment(X, k)\n",
        "        #To store iteration and array\n",
        "        \n",
        "        for it in range(max_iters):\n",
        "            \n",
        "            labels1 = self.label_assignment(centroids,X)\n",
        "            centroids = self.centers_new(centroids, labels1, X)\n",
        "            loss = self.calculate_loss(centroids, labels1, X)\n",
        "            k= centroids.shape[0]\n",
        "           \n",
        "            \n",
        "            \n",
        "\n",
        "    \n",
        "            #if verbose: #Print the iteration and losses\n",
        "             #print('test' , it , 'loss',loss)\n",
        "            \n",
        "\n",
        "    \n",
        "         #Plot the number of iteration and losses\n",
        "        \n",
        "        return  labels1, centroids , loss\n",
        "      \n",
        "      \n",
        "    \n",
        "            \n",
        "                    \n",
        "              "
      ],
      "metadata": {
        "id": "cdK939-W2klu"
      },
      "execution_count": 128,
      "outputs": []
    },
    {
      "cell_type": "code",
      "source": [
        "def find_k(X, maxK=10):\n",
        "        pred = np.empty(maxK)\n",
        "        for i in range(maxK):\n",
        "            #assign the label,center and loss for each K\n",
        "            labels_optimal, centers_optimal, pred[i] = KMeans2()(X, i + 1)\n",
        "            \n",
        "\n",
        "        # Plot in the losses and range of K    \n",
        "        plt.plot(np.arange(maxK) + 1, pred)\n",
        "        plt.xlabel('Number of Cluster (K)')\n",
        "        plt.show()\n",
        "        return  pred"
      ],
      "metadata": {
        "id": "vC7fpyPw2ypW"
      },
      "execution_count": 129,
      "outputs": []
    },
    {
      "cell_type": "code",
      "source": [
        "#Test Kmeans function\n",
        "KMeans2()(X_train,10)"
      ],
      "metadata": {
        "colab": {
          "base_uri": "https://localhost:8080/"
        },
        "id": "bwUgQ01PCiQm",
        "outputId": "6d33b38d-cc38-46c3-aa88-152ae31b6739"
      },
      "execution_count": 130,
      "outputs": [
        {
          "output_type": "execute_result",
          "data": {
            "text/plain": [
              "(array([8, 5, 6, ..., 2, 7, 3]), array([[0., 0., 0., ..., 0., 0., 0.],\n",
              "        [0., 0., 0., ..., 0., 0., 0.],\n",
              "        [0., 0., 0., ..., 0., 0., 0.],\n",
              "        ...,\n",
              "        [0., 0., 0., ..., 0., 0., 0.],\n",
              "        [0., 0., 0., ..., 0., 0., 0.],\n",
              "        [0., 0., 0., ..., 0., 0., 0.]]), 233555.15549760123)"
            ]
          },
          "metadata": {},
          "execution_count": 130
        }
      ]
    },
    {
      "cell_type": "code",
      "source": [
        "#Normal Kmeans with the X_train_rbf ( 500 samples)\n",
        "KMeans2()(X_train_rbf,5)"
      ],
      "metadata": {
        "colab": {
          "base_uri": "https://localhost:8080/"
        },
        "id": "u98JOnafQSVV",
        "outputId": "57514726-8650-4bf6-9b0e-6bf33364aff2"
      },
      "execution_count": 131,
      "outputs": [
        {
          "output_type": "execute_result",
          "data": {
            "text/plain": [
              "(array([4, 4, 0, 2, 0, 3, 2, 4, 2, 0, 4, 2, 4, 1, 2, 0, 3, 2, 1, 2, 0, 4,\n",
              "        0, 2, 3, 4, 0, 4, 4, 2, 2, 2, 1, 0, 4, 3, 1, 4, 0, 1, 2, 2, 0, 2,\n",
              "        2, 0, 2, 2, 0, 4, 4, 4, 0, 2, 0, 0, 4, 0, 0, 2, 0, 2, 1, 4, 1, 2,\n",
              "        1, 2, 4, 4, 2, 0, 2, 1, 4, 4, 2, 2, 2, 0, 4, 4, 4, 1, 0, 2, 0, 0,\n",
              "        4, 0, 1, 0, 0, 1, 2, 4, 0, 2, 4, 2, 0, 0, 2, 0, 2, 2, 1, 4, 4, 0,\n",
              "        0, 4, 2, 2, 4, 0, 0, 4, 4, 4, 4, 4, 3, 0, 2, 2, 1, 3, 2, 1, 2, 0,\n",
              "        2, 0, 0, 4, 2, 2, 4, 0, 0, 2, 0, 2, 2, 3, 2, 1, 0, 4, 2, 1, 2, 0,\n",
              "        0, 1, 4, 4, 0, 3, 0, 4, 0, 0, 0, 1, 0, 0, 2, 4, 0, 3, 0, 2, 2, 3,\n",
              "        0, 2, 3, 4, 2, 0, 4, 0, 2, 0, 2, 3, 0, 3, 3, 3, 4, 0, 0, 0, 0, 2,\n",
              "        2, 3, 2, 2, 2, 4, 1, 2, 4, 0, 2, 4, 4, 2, 0, 3, 0, 4, 4, 0, 1, 4,\n",
              "        3, 1, 0, 0, 0, 4, 0, 0, 0, 4, 0, 2, 1, 3, 4, 4, 4, 0, 1, 3, 2, 1,\n",
              "        4, 0, 4, 4, 4, 0, 2, 4, 0, 2, 2, 3, 4, 4, 2, 0, 0, 3, 0, 1, 3, 0,\n",
              "        0, 4, 4, 0, 0, 2, 2, 0, 0, 3, 2, 0, 2, 3, 1, 4, 0, 4, 0, 4, 4, 0,\n",
              "        1, 3, 0, 0, 2, 2, 0, 4, 0, 2, 4, 0, 4, 1, 2, 0, 1, 4, 0, 0, 4, 0,\n",
              "        3, 2, 2, 1, 0, 0, 0, 2, 4, 3, 2, 0, 4, 4, 0, 1, 0, 3, 4, 3, 4, 0,\n",
              "        4, 1, 4, 4, 0, 3, 0, 0, 0, 3, 0, 4, 0, 2, 0, 2, 0, 3, 2, 0, 0, 2,\n",
              "        4, 0, 0, 2, 2, 2, 2, 4, 2, 4, 0, 0, 0, 3, 2, 1, 2, 0, 2, 0, 0, 0,\n",
              "        0, 3, 4, 0, 3, 0, 0, 3, 2, 0, 0, 3, 4, 0, 2, 0, 2, 3, 4, 2, 2, 1,\n",
              "        4, 2, 2, 4, 3, 1, 0, 3, 4, 4, 2, 3, 2, 0, 2, 0, 0, 0, 3, 2, 2, 3,\n",
              "        2, 0, 0, 1, 0, 0, 0, 4, 0, 4, 0, 4, 1, 1, 3, 4, 0, 4, 0, 3, 0, 2,\n",
              "        4, 0, 0, 2, 2, 2, 0, 2, 3, 1, 2, 1, 4, 4, 2, 2, 2, 3, 4, 0, 0, 0,\n",
              "        4, 2, 4, 1, 2, 0, 0, 0, 2, 0, 2, 4, 4, 2, 0, 3, 0, 4, 4, 0, 0, 0,\n",
              "        2, 2, 4, 0, 2, 3, 4, 2, 2, 3, 4, 4, 4, 3, 1, 2]),\n",
              " array([[0., 0., 0., ..., 0., 0., 0.],\n",
              "        [0., 0., 0., ..., 0., 0., 0.],\n",
              "        [0., 0., 0., ..., 0., 0., 0.],\n",
              "        [0., 0., 0., ..., 0., 0., 0.],\n",
              "        [0., 0., 0., ..., 0., 0., 0.]]),\n",
              " 20685.07439669238)"
            ]
          },
          "metadata": {},
          "execution_count": 131
        }
      ]
    },
    {
      "cell_type": "code",
      "source": [
        "find_k(X=Y_train_optimal)"
      ],
      "metadata": {
        "colab": {
          "base_uri": "https://localhost:8080/",
          "height": 333
        },
        "id": "VXDqBW8a25bE",
        "outputId": "43ddc58a-49ad-48b7-89e3-70ab3c8392e5"
      },
      "execution_count": 132,
      "outputs": [
        {
          "output_type": "display_data",
          "data": {
            "text/plain": [
              "<Figure size 432x288 with 1 Axes>"
            ],
            "image/png": "[encoded data removed]"
          },
          "metadata": {
            "needs_background": "light"
          }
        },
        {
          "output_type": "execute_result",
          "data": {
            "text/plain": [
              "array([104167.94429659,  97368.63144761,  92373.49175486,  88932.76588344,\n",
              "        86138.20886514,  83851.57034984,  82523.65537875,  79666.75580143,\n",
              "        78306.51371259,  76597.14008809])"
            ]
          },
          "metadata": {},
          "execution_count": 132
        }
      ]
    },
    {
      "cell_type": "code",
      "source": [
        "find_k(X=X_train_optimal)"
      ],
      "metadata": {
        "colab": {
          "base_uri": "https://localhost:8080/",
          "height": 333
        },
        "id": "p2LoIezQli7q",
        "outputId": "4cba6f75-f15d-4b09-f20f-2c486d5f65e5"
      },
      "execution_count": 133,
      "outputs": [
        {
          "output_type": "display_data",
          "data": {
            "text/plain": [
              "<Figure size 432x288 with 1 Axes>"
            ],
            "image/png": "[encoded data removed]"
          },
          "metadata": {
            "needs_background": "light"
          }
        },
        {
          "output_type": "execute_result",
          "data": {
            "text/plain": [
              "array([208742.60733193, 195046.90694933, 187572.62949209, 177354.03985439,\n",
              "       172532.63892101, 167381.05824685, 163963.83896286, 159853.74367887,\n",
              "       156517.09073299, 154537.74425453])"
            ]
          },
          "metadata": {},
          "execution_count": 133
        }
      ]
    },
    {
      "cell_type": "markdown",
      "source": [
        "Q5 kernel RBF"
      ],
      "metadata": {
        "id": "Wuv8B_rm4u4L"
      }
    },
    {
      "cell_type": "code",
      "source": [
        "X=X_train_rbf"
      ],
      "metadata": {
        "id": "Uuuzs6Ti-INW"
      },
      "execution_count": 134,
      "outputs": []
    },
    {
      "cell_type": "code",
      "source": [
        "#Calculate Sigma solution 1\n",
        "def sigma_find(X, Y):\n",
        "    sigmma = 0\n",
        "    for x in X:\n",
        "        for y in Y:\n",
        "            temp = x - y\n",
        "            sigmma += temp**2\n",
        "    sigmma = sigmma / (len(X)**2)\n",
        "    return sigmma"
      ],
      "metadata": {
        "id": "jj5oXCuM-JUU"
      },
      "execution_count": 135,
      "outputs": []
    },
    {
      "cell_type": "code",
      "source": [
        "#Call the function\n",
        "sigma_1=np.sum(sigma_find(X,X_train_rbf))\n",
        "print(sigma_1)"
      ],
      "metadata": {
        "colab": {
          "base_uri": "https://localhost:8080/"
        },
        "id": "RR_og9jf-VYE",
        "outputId": "8b8ece12-a6da-434c-b563-17456bc1be47"
      },
      "execution_count": 136,
      "outputs": [
        {
          "output_type": "stream",
          "name": "stdout",
          "text": [
            "102.01194161955888\n"
          ]
        }
      ]
    },
    {
      "cell_type": "code",
      "source": [
        "#Count in the hyperparameter\n",
        "#Option 2\n",
        "normssq = cdist(X,X_train_rbf,'sqeuclidean')\n",
        "sigma_2= 1/500**2*np.sum(normssq)\n",
        "print(sigma_2)\n",
        "#count the kernel funciton\n",
        "kmatrix = np.exp(-normssq/sigma_2)\n",
        "print(kmatrix)"
      ],
      "metadata": {
        "colab": {
          "base_uri": "https://localhost:8080/"
        },
        "id": "t124IkVe_BAE",
        "outputId": "1c873443-d7a4-4113-e68a-b67aa842a259"
      },
      "execution_count": 137,
      "outputs": [
        {
          "output_type": "stream",
          "name": "stdout",
          "text": [
            "102.0119416195002\n",
            "[[1.         0.42356793 0.31368959 ... 0.35607876 0.44157821 0.415671  ]\n",
            " [0.42356793 1.         0.2817014  ... 0.34320126 0.34275148 0.37696311]\n",
            " [0.31368959 0.2817014  1.         ... 0.40774871 0.44471621 0.29878051]\n",
            " ...\n",
            " [0.35607876 0.34320126 0.40774871 ... 1.         0.43982207 0.40343488]\n",
            " [0.44157821 0.34275148 0.44471621 ... 0.43982207 1.         0.48823275]\n",
            " [0.415671   0.37696311 0.29878051 ... 0.40343488 0.48823275 1.        ]]\n"
          ]
        }
      ]
    },
    {
      "cell_type": "code",
      "source": [
        "def kernel(X, Y ,sigma_final):\n",
        "    normssq = cdist(X,Y,'sqeuclidean')\n",
        "    #500 is the number of samples\n",
        "    sigma_2= 1/500**2*np.sum(normssq)\n",
        "    kmatrix = np.exp(-normssq/sigma_2)\n",
        "    return kmatrix"
      ],
      "metadata": {
        "id": "80m564k0-doe"
      },
      "execution_count": 138,
      "outputs": []
    },
    {
      "cell_type": "code",
      "source": [
        "data1=kernel(X,X_train_rbf,102)"
      ],
      "metadata": {
        "id": "BrKiHreE-gJW"
      },
      "execution_count": 139,
      "outputs": []
    },
    {
      "cell_type": "code",
      "source": [
        "#Count Kmeans with the Kernelized data\n",
        "result=KMeans2()(data1,5)\n",
        "print(result)"
      ],
      "metadata": {
        "colab": {
          "base_uri": "https://localhost:8080/"
        },
        "id": "lkM37rYxWn9V",
        "outputId": "d7261526-5fdf-42a1-e7a5-b81ab7331b22"
      },
      "execution_count": 140,
      "outputs": [
        {
          "output_type": "stream",
          "name": "stdout",
          "text": [
            "(array([3, 3, 3, 2, 1, 1, 2, 3, 2, 1, 3, 2, 3, 4, 2, 1, 3, 1, 2, 2, 0, 0,\n",
            "       1, 2, 2, 3, 1, 0, 0, 2, 3, 3, 4, 1, 3, 2, 4, 3, 1, 4, 2, 1, 2, 2,\n",
            "       2, 1, 1, 1, 1, 3, 3, 0, 3, 2, 1, 1, 0, 1, 3, 2, 0, 2, 4, 0, 4, 2,\n",
            "       4, 2, 0, 0, 2, 1, 2, 4, 3, 3, 3, 2, 2, 1, 3, 3, 0, 4, 1, 1, 3, 1,\n",
            "       0, 1, 4, 1, 1, 4, 1, 3, 1, 1, 3, 2, 1, 1, 2, 1, 2, 2, 4, 3, 0, 4,\n",
            "       1, 0, 2, 2, 0, 1, 1, 0, 3, 0, 0, 0, 3, 1, 2, 2, 4, 1, 2, 4, 2, 1,\n",
            "       2, 1, 3, 3, 3, 2, 3, 1, 2, 1, 1, 3, 2, 1, 3, 4, 1, 3, 1, 4, 2, 2,\n",
            "       1, 4, 0, 3, 3, 3, 1, 3, 1, 1, 0, 4, 1, 1, 2, 3, 1, 3, 1, 2, 2, 1,\n",
            "       1, 2, 3, 3, 2, 3, 3, 1, 2, 1, 4, 0, 3, 3, 3, 1, 3, 1, 3, 1, 3, 2,\n",
            "       3, 1, 2, 2, 1, 3, 4, 2, 0, 3, 2, 0, 1, 2, 2, 0, 3, 3, 3, 1, 4, 3,\n",
            "       0, 4, 0, 1, 1, 3, 1, 1, 3, 0, 1, 2, 1, 3, 3, 3, 3, 1, 4, 3, 2, 0,\n",
            "       3, 1, 0, 3, 0, 1, 2, 0, 3, 2, 3, 0, 3, 3, 2, 1, 1, 1, 1, 4, 4, 1,\n",
            "       1, 3, 3, 1, 1, 2, 2, 1, 3, 1, 3, 1, 2, 0, 4, 3, 1, 3, 1, 0, 3, 1,\n",
            "       0, 2, 1, 1, 2, 3, 1, 0, 0, 2, 0, 1, 3, 4, 2, 1, 4, 0, 1, 1, 3, 1,\n",
            "       0, 2, 2, 4, 3, 1, 1, 2, 3, 3, 2, 1, 3, 3, 1, 4, 1, 0, 3, 3, 3, 1,\n",
            "       3, 4, 3, 3, 3, 1, 1, 1, 1, 0, 4, 3, 1, 3, 1, 2, 1, 0, 3, 1, 1, 2,\n",
            "       3, 1, 1, 2, 1, 2, 2, 0, 3, 3, 1, 1, 1, 3, 2, 4, 2, 1, 2, 3, 1, 1,\n",
            "       1, 0, 3, 1, 3, 1, 0, 3, 2, 1, 1, 0, 3, 1, 2, 1, 3, 3, 3, 3, 2, 4,\n",
            "       1, 2, 2, 0, 3, 4, 1, 1, 3, 3, 2, 1, 2, 1, 3, 1, 2, 1, 4, 3, 2, 2,\n",
            "       2, 1, 1, 4, 2, 1, 3, 3, 0, 0, 1, 0, 4, 4, 3, 3, 1, 0, 1, 1, 1, 3,\n",
            "       0, 1, 1, 2, 2, 3, 3, 2, 3, 4, 2, 3, 3, 0, 2, 2, 2, 3, 0, 1, 1, 1,\n",
            "       0, 2, 0, 4, 2, 3, 3, 3, 2, 1, 2, 0, 1, 2, 1, 3, 1, 3, 3, 1, 1, 3,\n",
            "       2, 3, 3, 1, 3, 3, 3, 2, 2, 3, 0, 3, 3, 1, 4, 3]), array([[0.27461766, 0.37292737, 0.27271863, ..., 0.28511993, 0.28105815,\n",
            "        0.27533278],\n",
            "       [0.3889329 , 0.34046101, 0.39403007, ..., 0.43305071, 0.43749465,\n",
            "        0.40388487],\n",
            "       [0.41507604, 0.33465633, 0.38050288, ..., 0.45333417, 0.48925013,\n",
            "        0.47683186],\n",
            "       [0.38763042, 0.35438504, 0.334267  , ..., 0.35361727, 0.3803436 ,\n",
            "        0.39480952],\n",
            "       [0.37450817, 0.36829619, 0.3454421 , ..., 0.35989791, 0.55726568,\n",
            "        0.41159979]]), 1183.5684588021281)\n"
          ]
        }
      ]
    },
    {
      "cell_type": "code",
      "source": [
        "K = 5  \n",
        "#assign centers to the data point \n",
        "centers = [KMeans2()(X_train_rbf,K)[1]]\n",
        "for i in range(K):\n",
        "    centers1=np.append(data1[i],centers)\n",
        "    print(centers1)\n",
        "    #print(labels1)\n",
        "    \n",
        "#Print in the new centers\n",
        "labels1,centers1,loss=KMeans2()(data1,5)\n",
        "print(centers1)\n",
        "\n",
        "  \n"
      ],
      "metadata": {
        "colab": {
          "base_uri": "https://localhost:8080/"
        },
        "id": "mkjPU5Dp-j1Y",
        "outputId": "9e059fa7-3eb8-4b3a-91be-15b0bca7da46"
      },
      "execution_count": 141,
      "outputs": [
        {
          "output_type": "stream",
          "name": "stdout",
          "text": [
            "[1.         0.42356793 0.31368959 ... 0.         0.         0.        ]\n",
            "[0.42356793 1.         0.2817014  ... 0.         0.         0.        ]\n",
            "[0.31368959 0.2817014  1.         ... 0.         0.         0.        ]\n",
            "[0.37381788 0.31542937 0.3690009  ... 0.         0.         0.        ]\n",
            "[0.34071915 0.34868012 0.37131654 ... 0.         0.         0.        ]\n",
            "[[0.36421779 0.3504385  0.38196707 ... 0.38317068 0.47142023 0.3752088 ]\n",
            " [0.42680698 0.35037088 0.32857686 ... 0.37313929 0.39905114 0.4479886 ]\n",
            " [0.2968699  0.37390582 0.28180607 ... 0.29788576 0.30290566 0.29563956]\n",
            " [0.40958361 0.33268363 0.37859862 ... 0.45477703 0.48898765 0.48277075]\n",
            " [0.3979272  0.33977768 0.39715965 ... 0.4426297  0.45343572 0.41756183]]\n"
          ]
        }
      ]
    }
  ]
}