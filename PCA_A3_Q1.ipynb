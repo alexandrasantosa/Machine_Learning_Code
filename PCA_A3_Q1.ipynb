{
  "nbformat": 4,
  "nbformat_minor": 0,
  "metadata": {
    "colab": {
      "provenance": []
    },
    "kernelspec": {
      "name": "python3",
      "display_name": "Python 3"
    },
    "language_info": {
      "name": "python"
    }
  },
  "cells": [
    {
      "cell_type": "markdown",
      "source": [
        "PCA Assignment 3 Question 1"
      ],
      "metadata": {
        "id": "lSODj3iM3795"
      }
    },
    {
      "cell_type": "markdown",
      "source": [
        "Alexandra Belinda Santosa - a1785180"
      ],
      "metadata": {
        "id": "sAzdVugX4ARp"
      }
    },
    {
      "cell_type": "code",
      "execution_count": 1,
      "metadata": {
        "id": "HA1E02aKmHoV",
        "colab": {
          "base_uri": "https://localhost:8080/"
        },
        "outputId": "f0b69d79-4bf2-44ac-820a-5c1c70a71dfb"
      },
      "outputs": [
        {
          "output_type": "stream",
          "name": "stdout",
          "text": [
            "Mounted at /content/drive\n"
          ]
        }
      ],
      "source": [
        "from google.colab import drive\n",
        "drive.mount('/content/drive')"
      ]
    },
    {
      "cell_type": "code",
      "source": [
        "#Import Libraries\n",
        "import pandas as pd\n",
        "import numpy as np\n",
        "import operator\n",
        "\n",
        "#Read in the train dataset\n",
        "train = pd.read_csv('/content/drive/My Drive/Colab Notebooks/Dataset_2/mnist.csv',header=None).to_numpy()"
      ],
      "metadata": {
        "id": "DWrDmfzlmTd1"
      },
      "execution_count": 2,
      "outputs": []
    },
    {
      "cell_type": "code",
      "source": [
        "X_train = train[:,1:]\n",
        "y_train = train[:,0]\n",
        "print(X_train.shape)\n",
        "print(y_train.shape)"
      ],
      "metadata": {
        "id": "ta5dfAowmynX",
        "colab": {
          "base_uri": "https://localhost:8080/"
        },
        "outputId": "85bf2d6b-4edc-4054-b0fc-f2abe8ef83d5"
      },
      "execution_count": 3,
      "outputs": [
        {
          "output_type": "stream",
          "name": "stdout",
          "text": [
            "(6000, 784)\n",
            "(6000,)\n"
          ]
        }
      ]
    },
    {
      "cell_type": "code",
      "source": [
        "\n",
        "def PCA(X , dimension_num ):\n",
        "    Xmean = X - np.mean(X , axis = 0)\n",
        "    #count in the covariance matrix\n",
        "    covariance_matrix_original = np.cov(Xmean,rowvar=False)\n",
        "     \n",
        "    #calculate the eigenvalues\n",
        "    eigen_values , eigenvec = np.linalg.eigh(covariance_matrix_original)\n",
        "     \n",
        "    #sort the eigen values and eigen vectors\n",
        "    count_sort = np.argsort(eigen_values)[::-1]\n",
        "    sort_eigenvalue = eigen_values[count_sort]\n",
        "    eigenvec_sort = eigenvec[:,count_sort]\n",
        "     \n",
        "    #sort depend on the number of dimension reduced\n",
        "    set_eigenvector = eigenvec_sort[:,0:dimension_num]\n",
        "     \n",
        "    #Reduced matrix obtain\n",
        "    transform_matrix = np.dot(set_eigenvector.transpose() , Xmean.transpose() ).transpose()\n",
        "     \n",
        "    return transform_matrix"
      ],
      "metadata": {
        "id": "2wWLk5pLSPwg"
      },
      "execution_count": 4,
      "outputs": []
    },
    {
      "cell_type": "code",
      "source": [
        "a=PCA(X_train,10)\n",
        "#Shape of a reduced dimension\n",
        "print(\"Reduced matrix\")\n",
        "print(a)\n",
        "print(np.shape(a))\n",
        "\n",
        "#Covariance Matrix of reduced array\n",
        "\n",
        "print(\"Below  the reduced array\")\n",
        "print(\"Shape\",np.shape(np.cov(a.T)))\n",
        "print(\"Covariance Reduced\")\n",
        "print(np.cov(a.T))\n",
        "print(np.sum(np.cov(a.T)))\n",
        "\n"
      ],
      "metadata": {
        "colab": {
          "base_uri": "https://localhost:8080/"
        },
        "id": "xwE0tj7QSThZ",
        "outputId": "fac2bdd7-cc42-4d94-e54b-8df988ffecca"
      },
      "execution_count": 5,
      "outputs": [
        {
          "output_type": "stream",
          "name": "stdout",
          "text": [
            "Reduced matrix\n",
            "[[-0.53240451  1.37372845 -0.13633468 ...  0.18720965 -1.32485561\n",
            "  -0.7357653 ]\n",
            " [-4.24912957  1.25986762 -1.99361817 ... -0.59806718  0.53332991\n",
            "  -0.24657199]\n",
            " [ 0.28462526 -1.74570207  1.15458325 ...  0.92137485 -0.76475733\n",
            "   0.62213146]\n",
            " ...\n",
            " [-0.03925143  2.65232948 -2.93658438 ... -1.82022257  1.56261134\n",
            "  -2.59636485]\n",
            " [-1.14929923  0.2048645  -1.30502823 ...  1.29219856  0.33032492\n",
            "   1.07061802]\n",
            " [-0.81791474 -3.17697145 -1.88324378 ... -0.68529252  0.20875069\n",
            "   0.91910097]]\n",
            "(6000, 10)\n",
            "Below  the reduced array\n",
            "Shape (10, 10)\n",
            "Covariance Reduced\n",
            "[[ 5.30558677e+00 -1.77902182e-15  1.60609427e-15 -3.30161340e-16\n",
            "   3.00846566e-16  1.12225245e-15 -8.00678262e-16  3.07953178e-16\n",
            "  -1.11455362e-15 -3.52369501e-16]\n",
            " [-1.77902182e-15  3.87701635e+00  9.49917110e-16  2.42098575e-15\n",
            "  -9.75974686e-16  1.87377664e-15  1.39171148e-16  7.34349885e-17\n",
            "  -8.39764627e-16  6.75128120e-16]\n",
            " [ 1.60609427e-15  9.49917110e-16  3.28704664e+00 -3.79019296e-16\n",
            "   1.46869977e-15 -1.31768427e-15  1.61675418e-16  4.85618473e-17\n",
            "  -4.00339131e-16  2.29780448e-16]\n",
            " [-3.30161340e-16  2.42098575e-15 -3.79019296e-16  2.91254096e+00\n",
            "  -7.58038591e-17 -2.28503479e-16  9.53470416e-17  1.04171085e-15\n",
            "   4.77697561e-16 -3.37564060e-17]\n",
            " [ 3.00846566e-16 -9.75974686e-16  1.46869977e-15 -7.58038591e-17\n",
            "   2.48633206e+00 -1.27326795e-15 -2.79526731e-16  5.10343559e-16\n",
            "  -2.23266054e-16 -2.85448907e-16]\n",
            " [ 1.12225245e-15  1.87377664e-15 -1.31768427e-15 -2.28503479e-16\n",
            "  -1.27326795e-15  2.35358942e+00 -6.30119579e-16 -1.05888516e-15\n",
            "  -1.77665295e-17 -2.78342295e-16]\n",
            " [-8.00678262e-16  1.39171148e-16  1.61675418e-16  9.53470416e-17\n",
            "  -2.79526731e-16 -6.30119579e-16  1.75556820e+00 -7.59755097e-16\n",
            "   4.50085414e-16 -3.50000631e-16]\n",
            " [ 3.07953178e-16  7.34349885e-17  4.85618473e-17  1.04171085e-15\n",
            "   5.10343559e-16 -1.05888516e-15 -7.59755097e-16  1.54475982e+00\n",
            "   1.58714330e-16  1.37912685e-16]\n",
            " [-1.11455362e-15 -8.39764627e-16 -4.00339131e-16  4.77697561e-16\n",
            "  -2.23266054e-16 -1.77665295e-17  4.50085414e-16  1.58714330e-16\n",
            "   1.45474519e+00 -1.28807339e-16]\n",
            " [-3.52369501e-16  6.75128120e-16  2.29780448e-16 -3.37564060e-17\n",
            "  -2.85448907e-16 -2.78342295e-16 -3.50000631e-16  1.37912685e-16\n",
            "  -1.28807339e-16  1.24337974e+00]]\n",
            "26.220565161722813\n"
          ]
        }
      ]
    }
  ]
}