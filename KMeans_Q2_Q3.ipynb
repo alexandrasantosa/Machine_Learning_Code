{
  "cells": [
    {
      "cell_type": "markdown",
      "metadata": {
        "id": "-_SIJUAxySUR"
      },
      "source": [
        "KMeans Question 2 and 3 "
      ]
    },
    {
      "cell_type": "code",
      "execution_count": 18,
      "metadata": {
        "colab": {
          "base_uri": "https://localhost:8080/"
        },
        "id": "TdkhogNFM228",
        "outputId": "c1cd4a6b-5673-4976-b834-2a9880f24ef6"
      },
      "outputs": [
        {
          "name": "stdout",
          "output_type": "stream",
          "text": [
            "Drive already mounted at /content/drive; to attempt to forcibly remount, call drive.mount(\"/content/drive\", force_remount=True).\n"
          ]
        }
      ],
      "source": [
        "from google.colab import drive\n",
        "drive.mount('/content/drive')"
      ]
    },
    {
      "cell_type": "code",
      "execution_count": 1,
      "metadata": {
        "id": "HywBb-cfNVy7"
      },
      "outputs": [],
      "source": [
        "import sys\n",
        "import matplotlib\n",
        "import pandas as pd\n",
        "import random\n",
        "import numpy as np\n",
        "import io\n",
        "import matplotlib.pyplot as plt\n",
        "from math import exp \n",
        "from sklearn.metrics import pairwise_distances_argmin\n",
        "np.random.seed(2)"
      ]
    },
    {
      "cell_type": "code",
      "execution_count": 20,
      "metadata": {
        "id": "i4G6RP_ENZJ2"
      },
      "outputs": [],
      "source": [
        "#Read the training dataset\n",
        "train = pd.read_csv('/content/drive/My Drive/Colab Notebooks/Dataset_2/mnist.csv',header=None)\n",
        "#train.head()"
      ]
    },
    {
      "cell_type": "code",
      "execution_count": 21,
      "metadata": {
        "colab": {
          "base_uri": "https://localhost:8080/"
        },
        "id": "WrDp4JNpNbh-",
        "outputId": "bc450df4-d52d-48a4-eede-394817756f3d"
      },
      "outputs": [
        {
          "name": "stdout",
          "output_type": "stream",
          "text": [
            "(2000, 784)\n",
            "(500, 784)\n"
          ]
        }
      ],
      "source": [
        "#For X_train\n",
        "X_train = train.iloc[:,1:].to_numpy()\n",
        "\n",
        "#4000test set\n",
        "X_train_optimal=train.iloc[:4000,1:].to_numpy()\n",
        "\n",
        "#2000 tests et\n",
        "Y_train_optimal=train.iloc[:2000,1:].to_numpy()\n",
        "print(Y_train_optimal.shape)\n",
        "X_train_optimal.shape\n",
        "\n",
        "#To test RBF\n",
        "X_train_rbf=train.iloc[:500,1:].to_numpy()\n",
        "print(X_train_rbf.shape)\n",
        "y_train = train.iloc[:,0].to_numpy()"
      ]
    },
    {
      "cell_type": "markdown",
      "metadata": {
        "id": "aBNjC6DXX5qv"
      },
      "source": [
        "Question 2 and Question 3"
      ]
    },
    {
      "cell_type": "code",
      "execution_count": 22,
      "metadata": {
        "id": "qhjxvYjZV3R9"
      },
      "outputs": [],
      "source": [
        "#Implement the Kmeans Function that returns Labels,Centers,and Loss\n",
        "class KMeans1(object):\n",
        "\n",
        "    def __init__(self): \n",
        "        pass\n",
        " \n",
        "    def pairwise_dist_eucl(self,x,y): \n",
        "      #calculate the distance ( Euclidean dsitance)   \n",
        "      #With Matrixcalculation\n",
        "        x_2 = np.sum(np.square(x),axis=1);\n",
        "        y_2 = np.sum(np.square(y),axis=1);\n",
        "        mul = np.dot(x, y.T);\n",
        "        dists = np.sqrt(abs(x_2[:, np.newaxis] + y_2-2*mul))\n",
        "        return dists\n",
        "   \n",
        "   \n",
        "  \n",
        "    def centers_assignment(self, X, k):  \n",
        "        r, c = X.shape\n",
        "        array_ret = np.empty([k, c])\n",
        "        for n in range(k):\n",
        "            random_index = np.random.randint(r)\n",
        "            array_ret[n] = X[random_index]\n",
        "        \n",
        "        return array_ret\n",
        "   \n",
        "\n",
        "   \n",
        "    def centers_new(self, centers_old, labels1, X):  \n",
        "        k, d = centers_old.shape\n",
        "        centers_new_arr = np.empty(centers_old.shape)\n",
        "        for i in range(k):\n",
        "            centers_new_arr[i] = np.array(X[labels1 == i].mean(0))\n",
        "        return centers_new_arr\n",
        "    \n",
        "\n",
        "\n",
        "    def calculate_loss(self, centroids, labels1, X):  \n",
        "        dists = self.pairwise_dist_eucl(X, centroids)\n",
        "        loss = 0.0\n",
        "        n, d = X.shape\n",
        "        for i in range(n):\n",
        "            d1=dists[i]\n",
        "            l1=labels1[i]\n",
        "            #count  the loss (sum the distance and centers)\n",
        "            loss = loss + np.square(d1[l1])\n",
        "  \n",
        "        return loss\n",
        "  \n",
        "\n",
        "  \n",
        "  \n",
        "    #Call the function\n",
        "    def __call__(self, X, k, iteration_max=100, verbose=False):\n",
        "  \n",
        "    \n",
        "        centroids = self.centers_assignment(X, k)\n",
        "        #To store iteration and array\n",
        "        it1=[]\n",
        "        loss1=[]\n",
        "        for it in range(iteration_max):\n",
        "            \n",
        "            labels1 = pairwise_distances_argmin(X, centroids)\n",
        "            centroids = self.centers_new(centroids, labels1, X)\n",
        "            loss = self.calculate_loss(centroids, labels1, X)\n",
        "            k= centroids.shape[0]\n",
        "            #append to the iteration and loss\n",
        "            it1.append(it)\n",
        "            loss1.append(loss)\n",
        "            \n",
        "    \n",
        "           \n",
        "            \n",
        "\n",
        "    \n",
        "            if verbose: \n",
        "              #Print the iteration and losses \n",
        "              #For debugging purpose\n",
        "             print('test' , it , 'loss',loss)\n",
        "            \n",
        "\n",
        "    \n",
        "         #Plot the number of iteration and losses\n",
        "        plt.plot(it1,loss1)\n",
        "        plt.xlabel('Number of Iteration')\n",
        "        plt.ylabel('Loss')    \n",
        "        return  labels1, centroids , loss\n",
        "      \n",
        "      "
      ]
    },
    {
      "cell_type": "code",
      "execution_count": 23,
      "metadata": {
        "colab": {
          "base_uri": "https://localhost:8080/",
          "height": 440
        },
        "id": "k2Js44pvpsTP",
        "outputId": "d15a24f3-6b55-48b5-b5f6-d812d9855856"
      },
      "outputs": [
        {
          "name": "stdout",
          "output_type": "stream",
          "text": [
            "Labels of X_train with 10 clusters [7 6 9 ... 4 8 0]\n",
            "Centers of 10 clusters [[0. 0. 0. ... 0. 0. 0.]\n",
            " [0. 0. 0. ... 0. 0. 0.]\n",
            " [0. 0. 0. ... 0. 0. 0.]\n",
            " ...\n",
            " [0. 0. 0. ... 0. 0. 0.]\n",
            " [0. 0. 0. ... 0. 0. 0.]\n",
            " [0. 0. 0. ... 0. 0. 0.]]\n",
            "234281.9769747943\n"
          ]
        },
        {
          "data": {
            "image/png": "[encoded data removed]",
            "text/plain": [
              "<Figure size 432x288 with 1 Axes>"
            ]
          },
          "metadata": {
            "needs_background": "light"
          },
          "output_type": "display_data"
        }
      ],
      "source": [
        "labels_try,centroids_try,loss_try=KMeans1()(X_train,10)\n",
        "print('Labels of X_train with 10 clusters',labels_try)\n",
        "print('Centers of 10 clusters' , centroids_try)\n",
        "print(loss_try)"
      ]
    }
  ],
  "metadata": {
    "colab": {
      "collapsed_sections": [],
      "provenance": []
    },
    "kernelspec": {
      "display_name": "Python 3.9.12 ('base')",
      "language": "python",
      "name": "python3"
    },
    "language_info": {
      "codemirror_mode": {
        "name": "ipython",
        "version": 3
      },
      "file_extension": ".py",
      "mimetype": "text/x-python",
      "name": "python",
      "nbconvert_exporter": "python",
      "pygments_lexer": "ipython3",
      "version": "3.9.12"
    },
    "vscode": {
      "interpreter": {
        "hash": "c1999976f225df331328d78bbeb0bbf1540e7aff7fe2c928c30e883a806cbdfc"
      }
    }
  },
  "nbformat": 4,
  "nbformat_minor": 0
}
