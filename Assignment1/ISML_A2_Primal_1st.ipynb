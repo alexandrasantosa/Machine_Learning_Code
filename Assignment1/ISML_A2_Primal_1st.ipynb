{
  "cells": [
    {
      "cell_type": "markdown",
      "source": [
        "**SVM Soft Margin Primal**"
      ],
      "metadata": {
        "id": "aRMeVWJEycq3"
      }
    },
    {
      "cell_type": "markdown",
      "source": [
        "Alexandra Belinda Santosa - \n",
        "a1785180"
      ],
      "metadata": {
        "id": "oZ2gWxTqyxVR"
      }
    },
    {
      "cell_type": "code",
      "execution_count": 1,
      "metadata": {
        "colab": {
          "base_uri": "https://localhost:8080/"
        },
        "id": "-CVC86Xd07c6",
        "outputId": "562a393e-0ae6-4bce-aa2d-499381eabc8d"
      },
      "outputs": [
        {
          "output_type": "stream",
          "name": "stdout",
          "text": [
            "Mounted at /content/drive\n"
          ]
        }
      ],
      "source": [
        "#mount from google collab\n",
        "from google.colab import drive\n",
        "drive.mount('/content/drive')"
      ]
    },
    {
      "cell_type": "code",
      "execution_count": 2,
      "metadata": {
        "id": "t5TdgPTg1tkf"
      },
      "outputs": [],
      "source": [
        "#import modules needed\n",
        "import pandas as pd\n",
        "import numpy as np\n",
        "import os\n",
        "import math as m\n",
        "import cvxopt\n",
        "import cvxopt.solvers\n",
        "from cvxopt import matrix\n",
        "from cvxopt import solvers\n",
        "from numpy import array\n",
        "\n",
        "#sckitlearn.svm\n",
        "from sklearn.svm import SVC\n",
        "from sklearn.metrics import accuracy_score\n",
        "from sklearn.model_selection import train_test_split\n",
        "%matplotlib inline\n",
        "np.random.seed(40)"
      ]
    },
    {
      "cell_type": "code",
      "execution_count": 3,
      "metadata": {
        "id": "EOSw7UNQ14mT"
      },
      "outputs": [],
      "source": [
        "X_train, Y_test = pd.read_csv('/content/drive/My Drive/Colab Notebooks/Dataset/train.csv', header=None), pd.read_csv('/content/drive/My Drive/Colab Notebooks/Dataset/test.csv',header=None)\n",
        "X_data_train = X_train.iloc[:4000,1:].to_numpy()\n",
        "X_data_val=X_train.iloc[4000:,1:].to_numpy()\n",
        "y_label_train, y_label_val  = X_train.iloc[:4000,0].to_numpy(), X_train.iloc[4000:,0].to_numpy()\n",
        "Y, y = Y_test.iloc[:,1:].to_numpy(), Y_test.iloc[:,0].to_numpy()\n",
        "y_label_train, y_label_val, y = np.where(y_label_train == 0, -1, y_label_train), np.where(y_label_val == 0, -1, y_label_val), np.where(y == 0, -1, y)"
      ]
    },
    {
      "cell_type": "markdown",
      "source": [
        "Starting off with the SVM training primal function"
      ],
      "metadata": {
        "id": "_xJcUj8MMcAX"
      }
    },
    {
      "cell_type": "code",
      "execution_count": 4,
      "metadata": {
        "id": "BGTBYXbo394W"
      },
      "outputs": [],
      "source": [
        "def svm_train_primal(data_train, label_train, regularisation_para_C):\n",
        "    c, d = data_train.shape\n",
        "    #set up the array\n",
        "    Pw = np.asarray(np.diag(np.ones(d)))\n",
        "    Ps = np.zeros([d, c])\n",
        "    Pb = np.zeros([1, d]) \n",
        "    P1=np.zeros([c, c])\n",
        "    P2=np.zeros([c, 1])\n",
        "    P3=np.zeros([1, c])\n",
        "    P4=np.zeros([1, 1]) \n",
        "\n",
        "    #Set up the matrices\n",
        "    P = cvxopt.matrix(np.concatenate((np.concatenate((Pw, Ps, Pb.T), axis = 1), np.concatenate((Ps.T, P1, P2), axis=1), \n",
        "                                      np.concatenate((Pb, P3, P4),axis = 1)), axis = 0))\n",
        "    q = cvxopt.matrix((np.concatenate((Pb, np.matrix(np.ones([c]) * regularisation_para_C/c), P4), axis=1).T))\n",
        "\n",
        "    \n",
        "    g1= np.dot(np.diag(label_train), data_train) * (-1)\n",
        "    g2= np.asarray(np.diag(np.ones([c]) * (-1)))\n",
        "    g3= np.matrix(label_train) * (-1)\n",
        "    g3 = g3.T\n",
        "    G = np.vstack((np.concatenate((g1,g2,g3), axis = 1), np.concatenate((np.zeros([c, d + 1]), np.asarray(np.diag(np.ones([c]) * (-1)))), axis = 1)))\n",
        "    G = cvxopt.matrix(G) \n",
        "    h = cvxopt.matrix(np.hstack((np.ones(c) * (-1), np.zeros(c))))     \n",
        "\n",
        "    #solve thhe matrices equation\n",
        "    svm_model = np.array(cvxopt.solvers.coneqp(P,q,G,h)['x']).flatten()\n",
        "    return svm_model\n"
      ]
    },
    {
      "cell_type": "markdown",
      "source": [
        "SVM prediction function"
      ],
      "metadata": {
        "id": "4JnqQINYMjl4"
      }
    },
    {
      "cell_type": "code",
      "execution_count": 5,
      "metadata": {
        "id": "SPN5LAW_LGwR"
      },
      "outputs": [],
      "source": [
        "def svm_predict_primal(data_test, label_test, svm_model):\n",
        "    c, d = X_data_train.shape\n",
        "    accuracy_test = accuracy_score(label_test, np.sign(np.dot(data_test, svm_model[:d]) + svm_model[-1]))\n",
        "    #y1=data_test@\n",
        "    return accuracy_test"
      ]
    },
    {
      "cell_type": "markdown",
      "source": [
        "Check the function with C=100, whether it is optimal or not"
      ],
      "metadata": {
        "id": "1EIVHB9AMoKb"
      }
    },
    {
      "cell_type": "code",
      "execution_count": 17,
      "metadata": {
        "colab": {
          "base_uri": "https://localhost:8080/"
        },
        "id": "Qodz6c3WS0uP",
        "outputId": "5e79e5a5-919f-4a72-d532-dada9a830f96"
      },
      "outputs": [
        {
          "output_type": "stream",
          "name": "stdout",
          "text": [
            "     pcost       dcost       gap    pres   dres\n",
            " 0:  7.1760e+00  6.0141e+02  4e+04  3e+00  2e+04\n",
            " 1:  2.1856e+02 -8.5822e+02  1e+03  7e-02  4e+02\n",
            " 2:  1.4644e+02 -1.6271e+02  3e+02  2e-02  9e+01\n",
            " 3:  5.1808e+01 -1.8561e+01  7e+01  3e-03  2e+01\n",
            " 4:  2.0899e+01 -1.2897e+00  2e+01  1e-03  5e+00\n",
            " 5:  1.1460e+01  3.6711e+00  8e+00  3e-04  1e+00\n",
            " 6:  7.9625e+00  5.4719e+00  2e+00  7e-05  4e-01\n",
            " 7:  6.9290e+00  6.0028e+00  9e-01  2e-05  9e-02\n",
            " 8:  6.5689e+00  6.1933e+00  4e-01  3e-06  2e-02\n",
            " 9:  6.4099e+00  6.3000e+00  1e-01  7e-07  3e-03\n",
            "10:  6.3628e+00  6.3337e+00  3e-02  1e-07  6e-04\n",
            "11:  6.3479e+00  6.3452e+00  3e-03  5e-09  3e-05\n",
            "12:  6.3466e+00  6.3463e+00  2e-04  2e-10  1e-06\n",
            "13:  6.3464e+00  6.3464e+00  5e-06  4e-12  2e-08\n",
            "Optimal solution found.\n",
            "Test accuracy :  0.9695555555555555\n",
            "Test accuracy in percent  :  96.95555555555555 %\n"
          ]
        }
      ],
      "source": [
        "#Test the function\n",
        "svm_model = svm_train_primal(X_data_train , y_label_train , 100)\n",
        "test_acc_primal = svm_predict_primal(X_data_val , y_label_val, svm_model)\n",
        "\n",
        "\n",
        "#print the function\n",
        "print(\"Test accuracy : \", test_acc_primal)\n",
        "print(\"Test accuracy in percent  : \", test_acc_primal*100 ,\"%\")\n"
      ]
    },
    {
      "cell_type": "markdown",
      "source": [
        "Equation for : \n",
        "\n",
        "1.   Weight\n",
        "2.   Bias\n",
        "\n"
      ],
      "metadata": {
        "id": "eaUXM8GfQidL"
      }
    },
    {
      "cell_type": "code",
      "execution_count": 11,
      "metadata": {
        "colab": {
          "base_uri": "https://localhost:8080/"
        },
        "id": "jEc-Zda_Fzg1",
        "outputId": "e54340a9-50ed-4481-be60-6e5726278bba"
      },
      "outputs": [
        {
          "output_type": "stream",
          "name": "stdout",
          "text": [
            "Bias is :  1.779809171974163\n",
            "Total weight is, -0.14513267953256792\n"
          ]
        }
      ],
      "source": [
        "#calculate the Weight and bias from bias form\n",
        "wprimal, bprimal = svm_model[:X_data_train.shape[1]], svm_model[-1]\n",
        "#series of the weight and bias\n",
        "W_series, b_series = pd.Series(wprimal), pd.Series(bprimal)\n",
        "#print out the answer\n",
        "print(\"Bias is : \" ,bprimal)\n",
        "print(\"Total weight is,\" , np.sum(W_series))\n",
        "\n"
      ]
    },
    {
      "cell_type": "markdown",
      "source": [
        "**SVM Sckit-Learn check with C=100**"
      ],
      "metadata": {
        "id": "DWoMJ_HdQxjY"
      }
    },
    {
      "cell_type": "code",
      "source": [
        "#Check the Weight , Bias , and Support Vector for Primal\n",
        "SVM_classifier_1 = SVC(C = 100 / X_data_train.shape[0], kernel = 'linear')\n",
        "SVM_classifier_1.fit(X_data_train, y_label_train) \n",
        "print(np.sum(SVM_classifier_1.coef_))\n",
        "print(SVM_classifier_1.intercept_)\n",
        "print(np.shape(SVM_classifier_1.support_vectors_))"
      ],
      "metadata": {
        "colab": {
          "base_uri": "https://localhost:8080/"
        },
        "id": "y8GGM-_wBV6h",
        "outputId": "d94bd46f-a377-4e6f-e6c3-5e5203a008a2"
      },
      "execution_count": 12,
      "outputs": [
        {
          "output_type": "stream",
          "name": "stdout",
          "text": [
            "-0.14375264622135508\n",
            "[1.77953045]\n",
            "(392, 200)\n"
          ]
        }
      ]
    },
    {
      "cell_type": "code",
      "execution_count": 14,
      "metadata": {
        "colab": {
          "base_uri": "https://localhost:8080/"
        },
        "id": "tC_ti5l_UVBm",
        "outputId": "1c2f2370-42cd-49e6-b2b0-2759e82bbf31"
      },
      "outputs": [
        {
          "output_type": "stream",
          "name": "stdout",
          "text": [
            " training accuracy is :  0.9795\n",
            " testing accuracy is :  0.968\n",
            "(392, 200)\n"
          ]
        }
      ],
      "source": [
        "\n",
        "SVM_classifier = SVC(C = 100 / X_data_train.shape[0], kernel = 'linear')\n",
        "\n",
        "SVM_classifier.fit(X_data_train, y_label_train) \n",
        "#print(SVM_classifier.fit)\n",
        "y1 = SVM_classifier.predict(X_data_train)\n",
        "train_accuracy = accuracy_score(y_label_train, y1)\n",
        "predicted_label = SVM_classifier.predict(Y)\n",
        "test_accuracy = accuracy_score(y, predicted_label)\n",
        "print(' training accuracy is : ',train_accuracy)\n",
        "print(' testing accuracy is : ',test_accuracy)\n",
        "print(np.shape(SVM_classifier.support_vectors_))"
      ]
    }
  ],
  "metadata": {
    "colab": {
      "collapsed_sections": [],
      "provenance": []
    },
    "kernelspec": {
      "display_name": "Python 3",
      "name": "python3"
    },
    "language_info": {
      "name": "python"
    }
  },
  "nbformat": 4,
  "nbformat_minor": 0
}